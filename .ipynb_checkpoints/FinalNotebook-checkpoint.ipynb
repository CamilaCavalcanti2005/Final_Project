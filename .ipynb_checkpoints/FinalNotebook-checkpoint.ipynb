{
 "cells": [
  {
   "cell_type": "markdown",
   "metadata": {},
   "source": [
    "**Introduction**\n",
    "\n",
    "This notebook uses three data sets from the Western Pennsylvania Regional Data Center (WPRDC) to determine the \"best\" neighborhood in Pittsburgh. \"Best\" is a subjective word, and our CMPINF 0010 final project allows us to be creative with what it means to us. Our initial instinct was to use the food-centered data sets to determine the best neighborhood to stuff one's face. (It led us to a database of all the fish fries in Pittsburgh that I intend to use for my own food-motivated purposes)! However, most of those data sets did not include the neighborhood so it would added an unnecessary layer of difficulty to our project to use them. \n",
    "\n",
    "The metric we have decided to use instead is just as fun. Pittsburgh is a city with lots of beautiful outdoor spaces, and I've found myself having fun in many of its parks. With summer coming up, we've set out to determine *the best neighborhood to play outside in.*"
   ]
  },
  {
   "cell_type": "markdown",
   "metadata": {},
   "source": [
    "**The metric**\n",
    "\n",
    "How are we determining which neighborhood has the best potential for outdoor fun? The three data sets we've pulled from the WPRDC include information about the city's: \n",
    "- Pools\n",
    "- Trees\n",
    "- Playgrounds\n",
    "\n",
    "The data sets for the pools and playgrounds mostly have geographical information- tract, ward, council district, police zone, et cetera. This information is very useful to those with a use for it, but it will not come into consideration for determining outdoor fun.\n",
    "\n",
    "The data we will use for the playgrounds includes the neighborhood and the park that the playground is in. Each neighborhood will score one point per playground.\n",
    "\n",
    "The data we will use for the pools includes the neighborhood and the type of pool. Some of the pools included in the data set are what one would think of when one thinks of a pool- large, with water deep enough to swim in. A neighborhood will receive five points for each pool. This is more than playgrounds get, because unlike playgrounds, pools attract people of all ages and therefore maximize outdoor fun for a larger demographic of people. Other \"pools\" included in the data set are not pools at all, but are what the city terms \"spray parks\" (aka \"splash pads\")- these are essentially playgrounds with water and do not include swimming. A neighborhood will receive two points for each splash pad- fewer than pools because they lack all-ages appeal, but more than conventional playgrounds because they are cooler.\n",
    "\n",
    "The data we will use for trees will include the neighboorhood and the condition of the trees. Each tree within the data set is assigned a condition: N/A, Excellent, Very Good, Good, Fair, Poor, Critical, Dead. There are many trees in each neighboorhood, making this one by far the biggest dataset we have to work with. To measure the overall atmosphere and treelife of a given neighboorhood, we will assign point values to each tree, adding points for trees of better values, and penalizing by remozing points for trees of lower value. The values of each tree is really small because we have over 2000 diffrent trees to look at, so in the grand scheme of things, one good tree doesn't count for very much. If we were to count every single tree as a single point, whichever neighboorhood happens to have the most good trees would likely win.\n",
    "\n"
   ]
  },
  {
   "cell_type": "markdown",
   "metadata": {},
   "source": [
    "**The Best Neighborhood in Pittsburgh**\n",
    "\n",
    "this is the coding & data part- the best neighborhood in pittsburgh is (blank) because of (all this data analysis we did)"
   ]
  },
  {
   "cell_type": "markdown",
   "metadata": {},
   "source": [
    "**Conclusion**\n",
    "\n",
    "- Stacy's favorite neighborhood\n",
    "\n",
    "My personal favorite neighborhood in Pittsburgh is the South Side. It includes my favorite climbing gym, lots of cute coffee shops, cheap rent, fun destinations for a night out, and it's very walkable. It didn't win this project's title of the best neighborhood in Pittsburgh, but I didn't expect it to. This project determined the neighborhood with the best outdoor features, and the South Side is admittedly rather lacking in that department.\n",
    "\n",
    "- Camila's favorite neighborhood\n",
    "\n"
   ]
  },
  {
   "cell_type": "markdown",
   "metadata": {},
   "source": [
    "My favorite neighboorhood in Pittsburgh is Squirrel Hill. Its residential area is beautiful and the long market street not only has many shops, it also has a lot of nice places to get a treat, like crepes or waffles or frozen yogurt. It also has a wonderful library that is beautiful on the inside and out. But this neighboorhood is mostly my personal favorite because of my own nostalgia for it and love of the time I used to live there, and therefore did expect it to win this particular project regardless \n"
   ]
  }
 ],
 "metadata": {
  "kernelspec": {
   "display_name": "Python 3",
   "language": "python",
   "name": "python3"
  },
  "language_info": {
   "codemirror_mode": {
    "name": "ipython",
    "version": 3
   },
   "file_extension": ".py",
   "mimetype": "text/x-python",
   "name": "python",
   "nbconvert_exporter": "python",
   "pygments_lexer": "ipython3",
   "version": "3.8.3"
  }
 },
 "nbformat": 4,
 "nbformat_minor": 4
}
