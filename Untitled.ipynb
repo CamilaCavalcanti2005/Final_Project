{
 "cells": [
  {
   "cell_type": "code",
   "execution_count": 4,
   "metadata": {},
   "outputs": [
    {
     "name": "stderr",
     "output_type": "stream",
     "text": [
      "<ipython-input-4-58114925ba96>:6: DtypeWarning: Columns (2) have mixed types. Specify dtype option on import or set low_memory=False.\n",
      "  trees = pd.read_csv('citytrees.csv')  # Replace 'trees.csv' with the actual path to your trees dataset\n"
     ]
    },
    {
     "name": "stdout",
     "output_type": "stream",
     "text": [
      "{nan: 9, 'North Oakland': 941, 'Carrick': 722, 'West Oakland': 83, 'Manchester': 607, 'Marshall-Shadeland': 428, 'South Shore': 0, 'Fineview': 50, 'Lower Lawrenceville': 810, 'Spring Garden': 51, 'Greenfield': 746, 'Windgap': 90, 'Squirrel Hill North': 2390, 'Chartiers City': 62, 'Central Northside': 808, 'Esplen': 1, 'Overbrook': 160, 'Westwood': 252, 'Garfield': 721, 'West End': 169, 'Arlington': 50, 'Allentown': 70, 'Spring Hill-City View': 87, 'Mount Washington': 1007, 'Hazelwood': 389, 'Allegheny West': 517, 'Homewood North': 182, 'Beechview': 770, 'Lincoln-Lemington-Belmar': 186, 'Crafton Heights': 223, 'Swisshelm Park': 319, 'Larimer': 319, 'Central Lawrenceville': 850, 'Fairywood': 4, 'East Allegheny': 565, 'California-Kirkbride': 60, 'Bloomfield': 1551, 'Duquesne Heights': 149, 'Brookline': 993, 'Hays': 0, 'Morningside': 437, 'Point Breeze': 1359, 'Troy Hill': 253, 'Beltzhoover': 115, 'Bluff': 190, 'Upper Hill': 79, 'East Hills': 363, 'Terrace Village': 267, 'Perry North': 799, 'Oakwood': 89, 'Shadyside': 1340, 'Mt. Oliver': 11, 'Homewood South': 269, 'St. Clair': 8, 'Bon Air': 113, 'Stanton Heights': 694, 'Central Business District': 1073, 'Banksville': 484, 'Brighton Heights': 841, 'Elliott': 199, 'Middle Hill': 263, 'Highland Park': 3286, 'Crawford-Roberts': 810, 'Arlington Heights': -2, 'East Carnegie': 4, 'East Liberty': 1492, 'Strip District': 687, 'Polish Hill': 373, 'Upper Lawrenceville': 579, 'New Homestead': 251, 'Summer Hill': 60, 'Chateau': 333, 'Lincoln Place': 224, 'South Side Flats': 2202, 'Homewood West': 74, 'Allegheny Center': 1183, 'Ridgemont': 19, 'Bedford Dwellings': 223, 'South Oakland': 180, 'Perry South': 202, 'Central Oakland': 358, 'Northview Heights': 0, 'North Shore': 700, 'Sheraden': 403, 'Squirrel Hill South': 5924, 'Regent Square': 458, 'Knoxville': 491, 'Friendship': 498, 'Point Breeze North': 364, 'Glen Hazel': -2, 'South Side Slopes': 201}\n"
     ]
    }
   ],
   "source": [
    "\n",
    "import pandas as pd\n",
    "\n",
    "# Read the datasets into DataFrames\n",
    "playgrounds = pd.read_csv('playgrounds.csv')  # Replace 'playgrounds.csv' with the actual path to your playgrounds dataset\n",
    "pools = pd.read_csv('citypools.csv')  # Replace 'pools.csv' with the actual path to your pools dataset\n",
    "trees = pd.read_csv('citytrees.csv')  # Replace 'trees.csv' with the actual path to your trees dataset\n",
    "\n",
    "# Initialize dictionaries for points and quality\n",
    "points = {}\n",
    "quality = {}\n",
    "\n",
    "# Calculate points for playgrounds\n",
    "for _, r in playgrounds.iterrows():\n",
    "    if r['neighborhood'] in points:\n",
    "        points[r['neighborhood']] = points[r['neighborhood']] + 2  # Assuming each playground contributes 2 points\n",
    "    else:\n",
    "        points[r['neighborhood']] = 2\n",
    "\n",
    "# Calculate points for pools\n",
    "for _, r in pools.iterrows():\n",
    "    if r['neighborhood'] in points:\n",
    "        points[r['neighborhood']] = points[r['neighborhood']] + 10 if r['type'] == \"Pool\" else points[r['neighborhood']] + 4\n",
    "    else:\n",
    "        points[r['neighborhood']] = 10 if r['type'] == \"Pool\" else 4\n",
    "\n",
    "# Calculate quality points for trees\n",
    "for _, r in trees.iterrows():\n",
    "    if r['neighborhood'] in quality:\n",
    "        if r['condition'] == \"Dead\":\n",
    "            quality[r['neighborhood']] -= 2\n",
    "        elif r['condition'] == \"Critical\":\n",
    "            quality[r['neighborhood']] -= 1\n",
    "        elif r['condition'] == \"Fair\":\n",
    "            quality[r['neighborhood']] += 1\n",
    "        elif r['condition'] == \"Good\":\n",
    "            quality[r['neighborhood']] += 2\n",
    "        elif r['condition'] == \"Very Good\":\n",
    "            quality[r['neighborhood']] += 3\n",
    "        elif r['condition'] == \"Excellent\":\n",
    "            quality[r['neighborhood']] += 4\n",
    "    else:\n",
    "        quality[r['neighborhood']] = -2 if r['condition'] == \"Dead\" else 0\n",
    "\n",
    "# Combine points from all datasets\n",
    "combined_points = {}\n",
    "for neighborhood in set(points.keys()).union(set(quality.keys())):\n",
    "    combined_points[neighborhood] = points.get(neighborhood, 0) + quality.get(neighborhood, 0)\n",
    "\n",
    "# Print the combined points\n",
    "print(combined_points)"
   ]
  },
  {
   "cell_type": "code",
   "execution_count": null,
   "metadata": {},
   "outputs": [],
   "source": []
  }
 ],
 "metadata": {
  "kernelspec": {
   "display_name": "Python 3",
   "language": "python",
   "name": "python3"
  },
  "language_info": {
   "codemirror_mode": {
    "name": "ipython",
    "version": 3
   },
   "file_extension": ".py",
   "mimetype": "text/x-python",
   "name": "python",
   "nbconvert_exporter": "python",
   "pygments_lexer": "ipython3",
   "version": "3.8.3"
  }
 },
 "nbformat": 4,
 "nbformat_minor": 4
}
