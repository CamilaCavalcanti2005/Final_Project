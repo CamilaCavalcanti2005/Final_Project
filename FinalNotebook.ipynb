{
 "cells": [
  {
   "cell_type": "markdown",
   "metadata": {},
   "source": [
    "**Introduction**\n",
    "\n",
    "This notebook uses three data sets from the Western Pennsylvania Regional Data Center (WPRDC) to determine the \"best\" neighborhood in Pittsburgh. \"Best\" is a subjective word, and our CMPINF 0010 final project allows us to be creative with what it means to us. Our initial instinct was to use the food-centered data sets to determine the best neighborhood to stuff one's face. (It led us to a database of all the fish fries in Pittsburgh that I intend to use for my own food-motivated purposes)! However, most of those data sets did not include the neighborhood so it would added an unnecessary layer of difficulty to our project to use them. \n",
    "\n",
    "The metric we have decided to use instead is just as fun. Pittsburgh is a city with lots of beautiful outdoor spaces, and I've found myself having fun in many of its parks. With summer coming up, we've set out to determine *the best neighborhood to play outside in.*"
   ]
  },
  {
   "cell_type": "markdown",
   "metadata": {},
   "source": [
    "**The metric**\n",
    "\n",
    "How are we determining which neighborhood has the best potential for outdoor fun? The three data sets we've pulled from the WPRDC include information about the city's: \n",
    "- Pools\n",
    "- Trees\n",
    "- Playgrounds\n",
    "\n",
    "The data sets for the pools and playgrounds mostly have geographical information- tract, ward, council district, police zone, et cetera. This information is very useful to those with a use for it, but it will not come into consideration for determining outdoor fun.\n",
    "\n",
    "The data we will use for the playgrounds includes the neighborhood and the park that the playground is in. Each neighborhood will score one point per playground. Additionally, some parks are in multiple neighborhoods- for example, Frick Park has one playground each in Squirrel Hill South and Regent Square. One might reasonably assume that it would be easy to walk between these playgrounds because they are in the same park. Therefore, each neighborhood will score 1/2 point for each playground that is not in it but is in a park that is in the neighborhood. (For example, Squirrel Hill South will score one point for the Frick Park playground in Squirrel Hill South, and 1/2 point for the Frick Park playground that is in Regent Square). *Optional: We will also look at photos and add 1 point to playgrounds that look \"fun\". Some of the playgrounds consist of one slide and nothing else, and those deserve a point, but we'd like to give an extra point to playgrounds that go above and beyond.*\n",
    "\n",
    "The data we will use for the pools includes the neighborhood and the type of pool. Some of the pools included in the data set are what one would think of when one thinks of a pool- large, with water deep enough to swim in. A neighborhood will receive five points for each pool. This is more than playgrounds get, because unlike playgrounds, pools attract people of all ages and therefore maximize outdoor fun for a larger demographic of people. Other \"pools\" included in the data set are not pools at all, but are what the city terms \"spray parks\" (aka \"splash pads\")- these are essentially playgrounds with water and do not include swimming. A neighborhood will receive two points for each splash pad- fewer than pools because they lack all-ages appeal, but more than conventional playgrounds because they are cooler.\n",
    "\n",
    "***(Camila, please create a metric for the trees.)***\n",
    "\n"
   ]
  },
  {
   "cell_type": "markdown",
   "metadata": {},
   "source": [
    "**The Best Neighborhood in Pittsburgh**\n",
    "\n",
    "this is the coding & data part- the best neighborhood in pittsburgh is (blank) because of (all this data analysis we did)"
   ]
  },
  {
   "cell_type": "markdown",
   "metadata": {},
   "source": [
    "**Conclusion**\n",
    "\n",
    "- Stacy's favorite neighborhood\n",
    "\n",
    "My personal favorite neighborhood in Pittsburgh is the South Side. It includes my favorite climbing gym, lots of cute coffee shops, cheap rent, fun destinations for a night out, and it's very walkable. It didn't win this project's title of the best neighborhood in Pittsburgh, but I didn't expect it to. This project determined the neighborhood with the best outdoor features, and the South Side is admittedly rather lacking in that department.\n",
    "\n",
    "- Camila's favorite neighborhood\n",
    "\n"
   ]
  },
  {
   "cell_type": "code",
   "execution_count": null,
   "metadata": {},
   "outputs": [],
   "source": []
  }
 ],
 "metadata": {
  "kernelspec": {
   "display_name": "Python 3",
   "language": "python",
   "name": "python3"
  },
  "language_info": {
   "codemirror_mode": {
    "name": "ipython",
    "version": 3
   },
   "file_extension": ".py",
   "mimetype": "text/x-python",
   "name": "python",
   "nbconvert_exporter": "python",
   "pygments_lexer": "ipython3",
   "version": "3.8.3"
  }
 },
 "nbformat": 4,
 "nbformat_minor": 4
}
