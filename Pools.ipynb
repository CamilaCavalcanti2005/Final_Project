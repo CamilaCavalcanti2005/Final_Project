{
 "cells": [
  {
   "cell_type": "code",
   "execution_count": 30,
   "metadata": {},
   "outputs": [],
   "source": [
    "import pandas as pd\n",
    "\n",
    "pools = pd.read_csv(\"citypools.csv\")"
   ]
  },
  {
   "cell_type": "code",
   "execution_count": 31,
   "metadata": {},
   "outputs": [
    {
     "name": "stdout",
     "output_type": "stream",
     "text": [
      "{'Bedford Dwellings': 5, 'Banksville': 5, 'Beechview': 2, 'Bloomfield': 5, 'Hazelwood': 2, 'Troy Hill': 2, 'East Hills': 2, 'Highland Park': 10, 'Homewood South': 5, 'Brighton Heights': 5, 'Greenfield': 5, 'Lincoln Place': 5, 'Shadyside': 2, 'Brookline': 5, 'South Side Flats': 10, 'Carrick': 5, 'Mount Washington': 5, 'Perry North': 5, 'Squirrel Hill South': 5, 'Sheraden': 5, 'Allegheny Center': 5, 'Beltzhoover': 2, 'Polish Hill': 5, 'Westwood': 5, 'South Side Slopes': 2, 'Lincoln-Lemington-Belmar': 2}\n"
     ]
    }
   ],
   "source": [
    "points = dict()\n",
    "\n",
    "for i, r in pools.iterrows():\n",
    "    if r['neighborhood'] in points:\n",
    "        if (r['type']==\"Pool\"):\n",
    "            points[r['neighborhood']] = points[r['neighborhood']] + 5\n",
    "        else:\n",
    "            points[r['neighborhood']] = points[r['neighborhood']] + 2\n",
    "    else:\n",
    "        if (r['type']==\"Pool\"):\n",
    "            points[r['neighborhood']] = 5\n",
    "        else:\n",
    "            points[r['neighborhood']] = 2\n",
    "        \n",
    "print(points)"
   ]
  },
  {
   "cell_type": "code",
   "execution_count": null,
   "metadata": {},
   "outputs": [],
   "source": []
  }
 ],
 "metadata": {
  "kernelspec": {
   "display_name": "Python 3",
   "language": "python",
   "name": "python3"
  },
  "language_info": {
   "codemirror_mode": {
    "name": "ipython",
    "version": 3
   },
   "file_extension": ".py",
   "mimetype": "text/x-python",
   "name": "python",
   "nbconvert_exporter": "python",
   "pygments_lexer": "ipython3",
   "version": "3.8.3"
  }
 },
 "nbformat": 4,
 "nbformat_minor": 4
}
